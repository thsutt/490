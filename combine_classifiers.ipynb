{
 "cells": [
  {
   "cell_type": "code",
   "execution_count": 28,
   "id": "064783a0-0473-4878-8aab-14d38d6ba5de",
   "metadata": {},
   "outputs": [
    {
     "data": {
      "text/html": [
       "<div>\n",
       "<style scoped>\n",
       "    .dataframe tbody tr th:only-of-type {\n",
       "        vertical-align: middle;\n",
       "    }\n",
       "\n",
       "    .dataframe tbody tr th {\n",
       "        vertical-align: top;\n",
       "    }\n",
       "\n",
       "    .dataframe thead th {\n",
       "        text-align: right;\n",
       "    }\n",
       "</style>\n",
       "<table border=\"1\" class=\"dataframe\">\n",
       "  <thead>\n",
       "    <tr style=\"text-align: right;\">\n",
       "      <th></th>\n",
       "      <th>img</th>\n",
       "      <th>tissue</th>\n",
       "      <th>class</th>\n",
       "      <th>severity</th>\n",
       "      <th>x</th>\n",
       "      <th>y</th>\n",
       "      <th>radius</th>\n",
       "    </tr>\n",
       "  </thead>\n",
       "  <tbody>\n",
       "    <tr>\n",
       "      <th>32</th>\n",
       "      <td>mdb032</td>\n",
       "      <td>G</td>\n",
       "      <td>MISC</td>\n",
       "      <td>B</td>\n",
       "      <td>388</td>\n",
       "      <td>742</td>\n",
       "      <td>66</td>\n",
       "    </tr>\n",
       "    <tr>\n",
       "      <th>187</th>\n",
       "      <td>mdb186</td>\n",
       "      <td>G</td>\n",
       "      <td>SPIC</td>\n",
       "      <td>M</td>\n",
       "      <td>403</td>\n",
       "      <td>524</td>\n",
       "      <td>47</td>\n",
       "    </tr>\n",
       "    <tr>\n",
       "      <th>103</th>\n",
       "      <td>mdb104</td>\n",
       "      <td>D</td>\n",
       "      <td>ASYM</td>\n",
       "      <td>B</td>\n",
       "      <td>357</td>\n",
       "      <td>365</td>\n",
       "      <td>50</td>\n",
       "    </tr>\n",
       "    <tr>\n",
       "      <th>89</th>\n",
       "      <td>mdb090</td>\n",
       "      <td>G</td>\n",
       "      <td>ASYM</td>\n",
       "      <td>M</td>\n",
       "      <td>510</td>\n",
       "      <td>547</td>\n",
       "      <td>49</td>\n",
       "    </tr>\n",
       "    <tr>\n",
       "      <th>156</th>\n",
       "      <td>mdb155</td>\n",
       "      <td>F</td>\n",
       "      <td>ARCH</td>\n",
       "      <td>M</td>\n",
       "      <td>448</td>\n",
       "      <td>480</td>\n",
       "      <td>95</td>\n",
       "    </tr>\n",
       "    <tr>\n",
       "      <th>...</th>\n",
       "      <td>...</td>\n",
       "      <td>...</td>\n",
       "      <td>...</td>\n",
       "      <td>...</td>\n",
       "      <td>...</td>\n",
       "      <td>...</td>\n",
       "      <td>...</td>\n",
       "    </tr>\n",
       "    <tr>\n",
       "      <th>259</th>\n",
       "      <td>mdb256</td>\n",
       "      <td>F</td>\n",
       "      <td>CALC</td>\n",
       "      <td>M</td>\n",
       "      <td>400</td>\n",
       "      <td>484</td>\n",
       "      <td>37</td>\n",
       "    </tr>\n",
       "    <tr>\n",
       "      <th>30</th>\n",
       "      <td>mdb030</td>\n",
       "      <td>G</td>\n",
       "      <td>MISC</td>\n",
       "      <td>B</td>\n",
       "      <td>322</td>\n",
       "      <td>676</td>\n",
       "      <td>43</td>\n",
       "    </tr>\n",
       "    <tr>\n",
       "      <th>230</th>\n",
       "      <td>mdb227</td>\n",
       "      <td>G</td>\n",
       "      <td>CALC</td>\n",
       "      <td>B</td>\n",
       "      <td>504</td>\n",
       "      <td>467</td>\n",
       "      <td>9</td>\n",
       "    </tr>\n",
       "    <tr>\n",
       "      <th>145</th>\n",
       "      <td>mdb144</td>\n",
       "      <td>F</td>\n",
       "      <td>MISC</td>\n",
       "      <td>M</td>\n",
       "      <td>313</td>\n",
       "      <td>540</td>\n",
       "      <td>27</td>\n",
       "    </tr>\n",
       "    <tr>\n",
       "      <th>251</th>\n",
       "      <td>mdb249</td>\n",
       "      <td>D</td>\n",
       "      <td>CALC</td>\n",
       "      <td>M</td>\n",
       "      <td>544</td>\n",
       "      <td>508</td>\n",
       "      <td>48</td>\n",
       "    </tr>\n",
       "  </tbody>\n",
       "</table>\n",
       "<p>93 rows × 7 columns</p>\n",
       "</div>"
      ],
      "text/plain": [
       "        img tissue class severity    x    y radius\n",
       "32   mdb032      G  MISC        B  388  742     66\n",
       "187  mdb186      G  SPIC        M  403  524     47\n",
       "103  mdb104      D  ASYM        B  357  365     50\n",
       "89   mdb090      G  ASYM        M  510  547     49\n",
       "156  mdb155      F  ARCH        M  448  480     95\n",
       "..      ...    ...   ...      ...  ...  ...    ...\n",
       "259  mdb256      F  CALC        M  400  484     37\n",
       "30   mdb030      G  MISC        B  322  676     43\n",
       "230  mdb227      G  CALC        B  504  467      9\n",
       "145  mdb144      F  MISC        M  313  540     27\n",
       "251  mdb249      D  CALC        M  544  508     48\n",
       "\n",
       "[93 rows x 7 columns]"
      ]
     },
     "execution_count": 28,
     "metadata": {},
     "output_type": "execute_result"
    }
   ],
   "source": [
    "from gensim.models import Word2Vec\n",
    "from nltk.tokenize import word_tokenize  # Make sure to install nltk and download punkt tokenizer data\n",
    "import nltk\n",
    "# nltk.download('punkt')\n",
    "import pandas as pd\n",
    "from datasets import load_dataset\n",
    "from sklearn.model_selection import train_test_split\n",
    "\n",
    "data = pd.read_csv('mdb.tsv', sep=' ', dtype='str')\n",
    "MB = data[(data[\"severity\"] == 'B') | (data[\"severity\"] == 'M')]\n",
    "train_data, test_data = train_test_split(MB, test_size=0.2, random_state=42)\n",
    "train_data"
   ]
  },
  {
   "cell_type": "code",
   "execution_count": 29,
   "id": "0a42b570-34ed-4518-8146-3bb733a3b774",
   "metadata": {},
   "outputs": [
    {
     "name": "stdout",
     "output_type": "stream",
     "text": [
      "Conversion complete.\n"
     ]
    }
   ],
   "source": [
    "from PIL import Image\n",
    "import os\n",
    "import pandas as pd\n",
    "input_folder = \"all-mias/\"\n",
    "m_output_folder = \"final-train/M\"\n",
    "b_output_folder = \"final-train/B\"\n",
    "\n",
    "# Ensure the output folder exists\n",
    "os.makedirs(m_output_folder, exist_ok=True)\n",
    "os.makedirs(b_output_folder, exist_ok=True)\n",
    "\n",
    "td_filtered = train_data[[\"img\", \"severity\"]]\n",
    "\n",
    "# Convert each PGM file to JPEG\n",
    "for entry in td_filtered.iterrows():\n",
    "    pgm_file = entry[1][\"img\"] + \".pgm\"\n",
    "    \n",
    "    pgm_path = os.path.join(input_folder, pgm_file)\n",
    "    if entry[1][\"severity\"] == \"M\":\n",
    "        # Open the PGM image\n",
    "        with Image.open(pgm_path) as img:\n",
    "            # Generate the output JPEG filename\n",
    "            jpeg_filename = os.path.splitext(pgm_file)[0] + \".jpg\"\n",
    "            jpeg_path = os.path.join(m_output_folder, jpeg_filename)\n",
    "    \n",
    "            # Save the image as JPEG\n",
    "            img.convert(\"RGB\").save(jpeg_path)\n",
    "    else:\n",
    "        with Image.open(pgm_path) as img:\n",
    "            jpeg_filename = os.path.splitext(pgm_file)[0] + \".jpg\"\n",
    "            jpeg_path = os.path.join(b_output_folder, jpeg_filename)\n",
    "            img.convert(\"RGB\").save(jpeg_path)\n",
    "\n",
    "print(\"Conversion complete.\")"
   ]
  },
  {
   "cell_type": "code",
   "execution_count": 30,
   "id": "378f0bbe-1b47-4f21-a1c4-eb603b8a7f46",
   "metadata": {
    "scrolled": true
   },
   "outputs": [],
   "source": [
    "data = train_data\n",
    "\n",
    "B = data[(data[\"severity\"] == 'B')]\n",
    "M = data[(data[\"severity\"] == 'M')]\n",
    "NORM = data[(data[\"class\"] == 'NORM')]\n",
    "\n",
    "def convert_item(val):\n",
    "    conversion_dict = {\n",
    "        'F': 'Fatty',\n",
    "        'G': 'Fatty-glandular',\n",
    "        'D': 'Dense-glandular',\n",
    "        'CALC': 'Calcification',\n",
    "        'CIRC': 'Well-defined/circumscribed masses',\n",
    "        'SPIC': 'Spiculated masses',\n",
    "        'MISC': 'Other, ill-defined masses',\n",
    "        'ARCH': 'Architectural distortion',\n",
    "        'ASYM': 'Asymmetry',\n",
    "        'NORM': 'Normal',\n",
    "    }\n",
    "\n",
    "    return conversion_dict.get(val, str(val))\n",
    "\n",
    "#Make norm sentences longer so classifier has similar length between normal and abnormal\n",
    "def convert_item_norm(val):\n",
    "    conversion_dict = {\n",
    "            'F': 'Fatty Fatty',\n",
    "            'G': 'Fatty-glandular Fatty-glandular',\n",
    "            'D': 'Dense-glandular Dense-glandular',\n",
    "        }\n",
    "   \n",
    "    return conversion_dict.get(val, str(val))\n",
    "\n",
    "B_sentences = [' '.join(map(convert_item, row)) for row in B[['tissue', 'class']].values.tolist()]\n",
    "M_sentences = [' '.join(map(convert_item, row)) for row in M[['tissue', 'class']].values.tolist()]\n",
    "NORM_sentences = [' '.join(map(convert_item_norm, row)) for row in NORM[['tissue']].values.tolist()]\n",
    "\n",
    "MB_sentences = B_sentences + M_sentences\n",
    "All_sentences = MB_sentences + NORM_sentences\n",
    "\n",
    "# Function to get the vector for a description\n",
    "def get_description_vector_sum(description, model):\n",
    "    words = word_tokenize(description.lower())\n",
    "    \n",
    "    # Filter out words that are not in the vocabulary\n",
    "    words_in_vocab = [word for word in words if word in model.wv.key_to_index]\n",
    "    if words_in_vocab:\n",
    "        # Calculate the sum vector\n",
    "        return sum(model.wv[word] for word in words_in_vocab)\n",
    "    else:\n",
    "        # If no words are in the vocabulary, return a vector of zeros or handle it as appropriate\n",
    "        return [0] * model.vector_size\n",
    "\n",
    "\n",
    "sentences = All_sentences\n",
    "get_vec = get_description_vector_sum\n",
    "\n",
    "# Tokenize the text into words\n",
    "tokenized_text = [word_tokenize(desc.lower()) for desc in sentences]  # Convert to lowercase for consistency\n",
    "\n",
    "# Define and train Word2Vec model\n",
    "embedding_dim = 100\n",
    "text_model = Word2Vec(sentences= tokenized_text, vector_size=embedding_dim, window=5, min_count=1, workers=4)\n",
    "\n",
    "b_vectors = [get_description_vector_sum(desc, text_model) for desc in B_sentences] \n",
    "b_label = \"Benign\"\n",
    "\n",
    "m_vectors = [get_description_vector_sum(desc, text_model) for desc in M_sentences]\n",
    "m_label = \"Malignant\"\n",
    "\n",
    "from sklearn.model_selection import train_test_split\n",
    "from sklearn.ensemble import RandomForestClassifier\n",
    "from sklearn.metrics import accuracy_score, classification_report\n",
    "\n",
    "aggregate_data = b_vectors + m_vectors\n",
    "data_labels = [0] * len(b_vectors) + [1] * len(m_vectors)\n",
    "\n",
    "# Split the data into training and testing sets\n",
    "X_train, X_test, y_train, y_test = train_test_split(aggregate_data, data_labels, test_size=0.2, random_state=42)\n",
    "\n",
    "\n",
    "# Initialize the Random Forest classifier\n",
    "rf_classifier = RandomForestClassifier(n_estimators=100, random_state=42)\n",
    "\n",
    "# Train the classifier on the training data\n",
    "rf_classifier.fit(X_train, y_train)\n",
    "\n",
    "# Make predictions on the test data\n",
    "y_pred = rf_classifier.predict_proba(X_test)"
   ]
  },
  {
   "cell_type": "code",
   "execution_count": 31,
   "id": "0d2b099d-2323-4fab-b8de-27d5e954cde2",
   "metadata": {},
   "outputs": [
    {
     "data": {
      "text/plain": [
       "0.3493928571428572"
      ]
     },
     "execution_count": 31,
     "metadata": {},
     "output_type": "execute_result"
    }
   ],
   "source": [
    "y_pred[0][1]"
   ]
  },
  {
   "cell_type": "code",
   "execution_count": 52,
   "id": "7e157643-892d-4966-9efb-bf49476176c6",
   "metadata": {},
   "outputs": [
    {
     "data": {
      "application/vnd.jupyter.widget-view+json": {
       "model_id": "1d3b3f22d8f04ea8a35d48e520649a9a",
       "version_major": 2,
       "version_minor": 0
      },
      "text/plain": [
       "Resolving data files:   0%|          | 0/87 [00:00<?, ?it/s]"
      ]
     },
     "metadata": {},
     "output_type": "display_data"
    }
   ],
   "source": [
    "from transformers import Trainer, TrainingArguments, ResNetForImageClassification\n",
    "from datasets import load_dataset\n",
    "from sklearn.model_selection import train_test_split\n",
    "import torch\n",
    "import numpy as np\n",
    "\n",
    "# Load dataset\n",
    "ds = load_dataset('final-train', split=['train'])[0]\n",
    "splits = ds.train_test_split(test_size=1)"
   ]
  },
  {
   "cell_type": "code",
   "execution_count": 53,
   "id": "52f6db81-955e-453d-b6d0-25e3c34cff79",
   "metadata": {},
   "outputs": [
    {
     "name": "stdout",
     "output_type": "stream",
     "text": [
      "The number of files in the folder \"./final-train/M\" is: 39\n",
      "Number of 1 labels:  48\n"
     ]
    }
   ],
   "source": [
    "#confirm 0 label = B\n",
    "\n",
    "import os\n",
    "\n",
    "def count_files_in_folder(folder_path):\n",
    "    try:\n",
    "        # Get the list of files in the folder\n",
    "        files = os.listdir(folder_path)\n",
    "\n",
    "        # Count the number of files\n",
    "        num_files = len(files)\n",
    "\n",
    "        print(f'The number of files in the folder \"{folder_path}\" is: {num_files}')\n",
    "\n",
    "    except FileNotFoundError:\n",
    "        print(f'The folder \"{folder_path}\" does not exist.')\n",
    "\n",
    "# Example usage\n",
    "folder_path = './final-train/M'\n",
    "count_files_in_folder(folder_path)\n",
    "z_count = 0\n",
    "for d in ds[\"label\"]:\n",
    "    if d == 0:\n",
    "        z_count += 1\n",
    "print(\"Number of 1 labels: \", z_count)"
   ]
  },
  {
   "cell_type": "code",
   "execution_count": 56,
   "id": "f07c6edb-c27e-4938-b560-6772bfb78b43",
   "metadata": {
    "scrolled": true
   },
   "outputs": [
    {
     "name": "stderr",
     "output_type": "stream",
     "text": [
      "/home/ths29/.conda/envs/fproj/lib/python3.12/site-packages/transformers/models/convnext/feature_extraction_convnext.py:28: FutureWarning: The class ConvNextFeatureExtractor is deprecated and will be removed in version 5 of Transformers. Please use ConvNextImageProcessor instead.\n",
      "  warnings.warn(\n"
     ]
    },
    {
     "data": {
      "application/vnd.jupyter.widget-view+json": {
       "model_id": "12468054980c45e4a7d2f9e5a4e87758",
       "version_major": 2,
       "version_minor": 0
      },
      "text/plain": [
       "Map:   0%|          | 0/83 [00:00<?, ? examples/s]"
      ]
     },
     "metadata": {},
     "output_type": "display_data"
    },
    {
     "data": {
      "application/vnd.jupyter.widget-view+json": {
       "model_id": "1fa85d7a98674935b9346d323e0efee1",
       "version_major": 2,
       "version_minor": 0
      },
      "text/plain": [
       "Map:   0%|          | 0/4 [00:00<?, ? examples/s]"
      ]
     },
     "metadata": {},
     "output_type": "display_data"
    },
    {
     "name": "stderr",
     "output_type": "stream",
     "text": [
      "Some weights of ResNetForImageClassification were not initialized from the model checkpoint at microsoft/resnet-50 and are newly initialized because the shapes did not match:\n",
      "- classifier.1.weight: found shape torch.Size([1000, 2048]) in the checkpoint and torch.Size([2, 2048]) in the model instantiated\n",
      "- classifier.1.bias: found shape torch.Size([1000]) in the checkpoint and torch.Size([2]) in the model instantiated\n",
      "You should probably TRAIN this model on a down-stream task to be able to use it for predictions and inference.\n",
      "Detected kernel version 4.18.0, which is below the recommended minimum of 5.5.0; this can cause the process to hang. It is recommended to upgrade the kernel to the minimum version or higher.\n"
     ]
    },
    {
     "data": {
      "text/html": [
       "\n",
       "    <div>\n",
       "      \n",
       "      <progress value='18' max='18' style='width:300px; height:20px; vertical-align: middle;'></progress>\n",
       "      [18/18 01:10, Epoch 2/2]\n",
       "    </div>\n",
       "    <table border=\"1\" class=\"dataframe\">\n",
       "  <thead>\n",
       " <tr style=\"text-align: left;\">\n",
       "      <th>Epoch</th>\n",
       "      <th>Training Loss</th>\n",
       "      <th>Validation Loss</th>\n",
       "      <th>Accuracy</th>\n",
       "      <th>Recall</th>\n",
       "      <th>Auc</th>\n",
       "    </tr>\n",
       "  </thead>\n",
       "  <tbody>\n",
       "    <tr>\n",
       "      <td>1</td>\n",
       "      <td>No log</td>\n",
       "      <td>0.586728</td>\n",
       "      <td>0.750000</td>\n",
       "      <td>0.000000</td>\n",
       "      <td>0.333333</td>\n",
       "    </tr>\n",
       "    <tr>\n",
       "      <td>2</td>\n",
       "      <td>No log</td>\n",
       "      <td>0.675320</td>\n",
       "      <td>0.500000</td>\n",
       "      <td>0.000000</td>\n",
       "      <td>0.333333</td>\n",
       "    </tr>\n",
       "  </tbody>\n",
       "</table><p>"
      ],
      "text/plain": [
       "<IPython.core.display.HTML object>"
      ]
     },
     "metadata": {},
     "output_type": "display_data"
    },
    {
     "data": {
      "text/plain": [
       "TrainOutput(global_step=18, training_loss=0.743633959028456, metrics={'train_runtime': 75.3241, 'train_samples_per_second': 2.204, 'train_steps_per_second': 0.239, 'total_flos': 3525076969021440.0, 'train_loss': 0.743633959028456, 'epoch': 2.0})"
      ]
     },
     "execution_count": 56,
     "metadata": {},
     "output_type": "execute_result"
    }
   ],
   "source": [
    "from datasets import Dataset\n",
    "import math\n",
    "\n",
    "def combine_ds(ds1, ds2):\n",
    "    return Dataset.from_dict({'image': ds1[\"image\"] + ds2[\"image\"],\n",
    "            'label': ds1[\"label\"] + ds2[\"label\"]})\n",
    "            \n",
    "\n",
    "\n",
    "def k_split(dataset, n=0, k=20):\n",
    "    split_size = math.floor(len(dataset)/k)\n",
    "    if(split_size == 0):\n",
    "        split_size = 1\n",
    "    slice_bottom = n*split_size\n",
    "    slice_top = (n*split_size)+split_size\n",
    "    train = combine_ds(dataset[0:slice_bottom], dataset[slice_top:])\n",
    "    ds3 = dataset[slice_bottom:slice_top]\n",
    "    test = Dataset.from_dict({'image': ds3[\"image\"] ,\n",
    "            'label': ds3[\"label\"]})\n",
    "    return train,test\n",
    "\n",
    "ds = combine_ds(splits['train'], splits['test'])\n",
    "\n",
    "import numpy as np\n",
    "from datasets import Features, ClassLabel, Array3D\n",
    "from transformers import AutoFeatureExtractor\n",
    "\n",
    "feature_extractor = AutoFeatureExtractor.from_pretrained('microsoft/resnet-50')\n",
    "\n",
    "def preprocess_image(example):\n",
    "    image = example['image']\n",
    "    image = image.resize((244,244))\n",
    "    image = np.array(image, dtype=np.uint8)\n",
    "    image = np.moveaxis(image, source=-1, destination=0)\n",
    "    inputs = feature_extractor(images=image)\n",
    "    example['pixel_values'] = inputs['pixel_values'][0]\n",
    "    example['image'] = image\n",
    "    return example\n",
    "\n",
    "from datasets import Features, ClassLabel, Array3D\n",
    "features = Features({\n",
    "    'label': ClassLabel(num_classes=2, names=['benign', 'malignant']),\n",
    "    'image': Array3D(dtype=\"int64\", shape=(3,32,32)),\n",
    "    'pixel_values': Array3D(dtype=\"float32\", shape=(3, 224, 224)),\n",
    "})\n",
    "\n",
    "from transformers import Trainer, TrainingArguments\n",
    "from transformers import default_data_collator\n",
    "from scipy.special import softmax\n",
    "\n",
    "data_collator = default_data_collator\n",
    "from sklearn.metrics import accuracy_score, recall_score, roc_auc_score\n",
    "\n",
    "def get_prediction(p, threshold = 0.5):\n",
    "    probabilities = softmax(p)\n",
    "    predicted_class = 1 - int(probabilities[0] > threshold)\n",
    "    return predicted_class\n",
    "\n",
    "def compute_metrics(p):\n",
    "    raw_pred = p.predictions\n",
    "    predictions = [get_prediction(t) for t in raw_pred]\n",
    "    probabilities = [softmax(t)[1] for t in raw_pred] #softmax 1 we take to mean probability of label being 1\n",
    "    labels = p.label_ids\n",
    "    accuracy = accuracy_score(labels, predictions)\n",
    "    recall = recall_score(labels, predictions)\n",
    "    auc = roc_auc_score(labels, probabilities)\n",
    "    return {\"accuracy\": accuracy, \"recall\": recall, \"AUC\": auc}\n",
    "\n",
    "train_ds, val_ds = k_split(ds) \n",
    "\n",
    "preprocessed_train_ds = train_ds.map(preprocess_image, features = features)\n",
    "preprocessed_val_ds = val_ds.map(preprocess_image, features = features)\n",
    "preprocessed_train_ds\n",
    "\n",
    "img_model = ResNetForImageClassification.from_pretrained('microsoft/resnet-50', num_labels=2, ignore_mismatched_sizes=True)\n",
    "\n",
    "args = TrainingArguments(\n",
    "                output_dir=\"./model\",\n",
    "                evaluation_strategy = \"epoch\",\n",
    "                save_strategy = \"epoch\",\n",
    "                learning_rate=0.01,\n",
    "                per_device_train_batch_size=10,\n",
    "                per_device_eval_batch_size=4,\n",
    "                num_train_epochs=2,\n",
    "                weight_decay=0.01,\n",
    "                load_best_model_at_end=True,\n",
    "                logging_dir='logs',\n",
    "            )\n",
    "\n",
    "trainer = Trainer(\n",
    "                model = img_model,\n",
    "                args=args,\n",
    "                train_dataset = preprocessed_train_ds,\n",
    "                eval_dataset = preprocessed_val_ds,\n",
    "                data_collator = data_collator,\n",
    "                compute_metrics = compute_metrics,\n",
    "            )\n",
    "\n",
    "trainer.train()"
   ]
  },
  {
   "cell_type": "code",
   "execution_count": 57,
   "id": "34ec30d5-0a2e-4c1d-8ee8-e60ae085ab38",
   "metadata": {},
   "outputs": [],
   "source": [
    "def convert_img(image_name):\n",
    "    pgm_file = image_name + \".pgm\"\n",
    "    pgm_path = os.path.join(input_folder, pgm_file)\n",
    "    with Image.open(pgm_path) as img:\n",
    "        return img.convert(\"RGB\")"
   ]
  },
  {
   "cell_type": "code",
   "execution_count": 58,
   "id": "4c48de2d-4f7e-4c94-9d8a-55e55d96ad0f",
   "metadata": {
    "scrolled": true
   },
   "outputs": [],
   "source": [
    "test_data\n",
    "final_train_data = {\"label\":[], \"image\":[], \"sentence\":[], \"pixel_values\":[]}\n",
    "for row in test_data.iterrows():\n",
    "    data = row[1]\n",
    "    img = data[\"img\"]\n",
    "    sentence = ' '.join(map(convert_item, data[[\"tissue\", \"class\"]])) \n",
    "    img = convert_img(img)\n",
    "    label = int(data[\"severity\"] == \"M\") #0 label = benign\n",
    "    img = preprocess_image({'image': img})\n",
    "    final_train_data[\"sentence\"].append(sentence)\n",
    "    final_train_data[\"label\"].append(label)\n",
    "    final_train_data[\"image\"].append(img[\"image\"])\n",
    "    final_train_data[\"pixel_values\"].append(img[\"pixel_values\"])\n",
    "\n",
    "final_train_ds = Dataset.from_dict(final_train_data)"
   ]
  },
  {
   "cell_type": "code",
   "execution_count": 59,
   "id": "4d646179-708c-4b35-acb3-fc909ff27985",
   "metadata": {},
   "outputs": [
    {
     "data": {
      "text/html": [],
      "text/plain": [
       "<IPython.core.display.HTML object>"
      ]
     },
     "metadata": {},
     "output_type": "display_data"
    }
   ],
   "source": [
    " outputs = trainer.predict(final_train_ds)"
   ]
  },
  {
   "cell_type": "code",
   "execution_count": 60,
   "id": "532b2d8d-33c8-4c95-ba77-708cc0b9e216",
   "metadata": {},
   "outputs": [],
   "source": [
    "#confirm that ordering of predictions in outputs corresponds to ordering in the final_train_ds\n",
    "for i in range(len(final_train_ds)):\n",
    "    if final_train_ds[i][\"label\"] != outputs.label_ids[i]:\n",
    "        print(\"Err, label mismatch\")"
   ]
  },
  {
   "cell_type": "code",
   "execution_count": 61,
   "id": "3a5bba94-561a-4693-9ec4-ad850d9c133d",
   "metadata": {},
   "outputs": [],
   "source": [
    "#make dataset suitable for rf predictions\n",
    "final_vectors = []\n",
    "for data in final_train_ds:\n",
    "    final_vectors.append(get_description_vector_sum(data[\"sentence\"], model = text_model ))"
   ]
  },
  {
   "cell_type": "code",
   "execution_count": 62,
   "id": "4163a754-c5f5-491a-af03-0bb01e7ed7fc",
   "metadata": {},
   "outputs": [],
   "source": [
    "def get_combined_metrics(predictions, probabilities, labels):\n",
    "    accuracy = accuracy_score(labels, predictions)\n",
    "    recall = recall_score(labels, predictions)\n",
    "    auc = roc_auc_score(labels, probabilities)\n",
    "    return {\"accuracy\": accuracy, \"recall\": recall, \"AUC\": auc}\n",
    "    "
   ]
  },
  {
   "cell_type": "code",
   "execution_count": 63,
   "id": "0d258288-25d4-4ce0-ac27-a85102326272",
   "metadata": {},
   "outputs": [],
   "source": [
    "labels = outputs.label_ids\n",
    "image_probabilities = outputs.predictions\n",
    "y_pred = rf_classifier.predict_proba(final_vectors)\n",
    "image_weight = 0\n",
    "accuracy = []\n",
    "recall = []\n",
    "auc = []\n",
    "image_weights = []\n",
    "steps = 20\n",
    "for i in range(steps):\n",
    "    text_weight = 1-image_weight\n",
    "    pred = []\n",
    "    wavg = []\n",
    "    for i in range(len(y_pred)):\n",
    "        text_probability = y_pred[i][0]\n",
    "        image_probability = softmax(outputs.predictions[i])[0]\n",
    "        zero_prob = image_probability* image_weight + text_probability*text_weight\n",
    "        prob_set = [zero_prob, 1-zero_prob]\n",
    "        wavg.append(zero_prob)\n",
    "        pred.append(int(zero_prob > 0.5))\n",
    "    metrics = get_combined_metrics(pred, wavg, labels)\n",
    "    accuracy.append(metrics[\"accuracy\"])\n",
    "    auc.append(metrics[\"AUC\"])\n",
    "    recall.append(metrics[\"recall\"])\n",
    "    image_weights.append(image_weight)\n",
    "    image_weight += 1/steps"
   ]
  },
  {
   "cell_type": "code",
   "execution_count": 66,
   "id": "5e969fed-a52e-4877-8cf8-4024a37489a5",
   "metadata": {},
   "outputs": [
    {
     "data": {
      "text/plain": [
       "[0.5833333333333334,\n",
       " 0.625,\n",
       " 0.5416666666666666,\n",
       " 0.5416666666666666,\n",
       " 0.5416666666666666,\n",
       " 0.5416666666666666,\n",
       " 0.5,\n",
       " 0.5416666666666666,\n",
       " 0.5416666666666666,\n",
       " 0.5,\n",
       " 0.4166666666666667,\n",
       " 0.4166666666666667,\n",
       " 0.4166666666666667,\n",
       " 0.4166666666666667,\n",
       " 0.4166666666666667,\n",
       " 0.4166666666666667,\n",
       " 0.4166666666666667,\n",
       " 0.4166666666666667,\n",
       " 0.4166666666666667,\n",
       " 0.4166666666666667]"
      ]
     },
     "execution_count": 66,
     "metadata": {},
     "output_type": "execute_result"
    }
   ],
   "source": [
    "accuracy"
   ]
  },
  {
   "cell_type": "code",
   "execution_count": 51,
   "id": "682a136a-951e-4b06-a15e-010ac659306f",
   "metadata": {},
   "outputs": [
    {
     "data": {
      "image/png": "[encoded data removed]",
      "text/plain": [
       "<Figure size 640x480 with 1 Axes>"
      ]
     },
     "metadata": {},
     "output_type": "display_data"
    }
   ],
   "source": [
    "# Create line charts for accuracy, auc, recall\n",
    "plt.plot(image_weights, accuracy, marker='o', linestyle='-', label='Accuracy')\n",
    "plt.plot(image_weights, auc, marker='s', linestyle='--', label='AUC')\n",
    "plt.plot(image_weights, recall, marker='s', linestyle='--', label='Recall')\n",
    "\n",
    "# Add labels and title\n",
    "plt.xlabel('Image Weight')\n",
    "plt.ylabel('Value')\n",
    "plt.title('Combined Text and Image Prediction\\nWeighted Average Metrics\\nMalignant vs Benign')\n",
    "\n",
    "plt.ylim(bottom=0, top = 1)\n",
    "\n",
    "plt.legend()\n",
    "\n",
    "plt.show()"
   ]
  },
  {
   "cell_type": "code",
   "execution_count": null,
   "id": "27c13ddb-7881-4afb-bdef-3ef70e9af398",
   "metadata": {},
   "outputs": [],
   "source": []
  }
 ],
 "metadata": {
  "kernelspec": {
   "display_name": "Python 3 (ipykernel)",
   "language": "python",
   "name": "python3"
  },
  "language_info": {
   "codemirror_mode": {
    "name": "ipython",
    "version": 3
   },
   "file_extension": ".py",
   "mimetype": "text/x-python",
   "name": "python",
   "nbconvert_exporter": "python",
   "pygments_lexer": "ipython3",
   "version": "3.9.13"
  }
 },
 "nbformat": 4,
 "nbformat_minor": 5
}
