{
 "cells": [
  {
   "cell_type": "code",
   "execution_count": 1,
   "id": "af68637e-4e3d-47d5-bda4-020f7864f818",
   "metadata": {
    "scrolled": true
   },
   "outputs": [
    {
     "data": {
      "application/vnd.jupyter.widget-view+json": {
       "model_id": "013a6f07927d43838e4211377144fa6c",
       "version_major": 2,
       "version_minor": 0
      },
      "text/plain": [
       "Resolving data files:   0%|          | 0/318 [00:00<?, ?it/s]"
      ]
     },
     "metadata": {},
     "output_type": "display_data"
    },
    {
     "data": {
      "text/plain": [
       "Dataset({\n",
       "    features: ['image', 'label'],\n",
       "    num_rows: 318\n",
       "})"
      ]
     },
     "execution_count": 1,
     "metadata": {},
     "output_type": "execute_result"
    }
   ],
   "source": [
    "from transformers import Trainer, TrainingArguments, ResNetForImageClassification\n",
    "from datasets import load_dataset\n",
    "from sklearn.model_selection import train_test_split\n",
    "import torch\n",
    "import numpy as np\n",
    "\n",
    "# Load dataset\n",
    "ds = load_dataset('norm-all-img-data', split=['train'])[0]\n",
    "splits = ds.train_test_split(test_size=1)"
   ]
  },
  {
   "cell_type": "code",
   "execution_count": 3,
   "id": "1efff572-804f-4087-a7fe-8bb9511a6d42",
   "metadata": {},
   "outputs": [],
   "source": [
    "from datasets import Dataset\n",
    "import math\n",
    "\n",
    "def combine_ds(ds1, ds2):\n",
    "    return Dataset.from_dict({'image': ds1[\"image\"] + ds2[\"image\"],\n",
    "            'label': ds1[\"label\"] + ds2[\"label\"]})\n",
    "            \n",
    "\n",
    "\n",
    "def k_split(dataset, n, k=10):\n",
    "    split_size = math.floor(len(dataset)/k)\n",
    "    if(split_size == 0):\n",
    "        split_size = 1\n",
    "    slice_bottom = n*split_size\n",
    "    slice_top = (n*split_size)+split_size\n",
    "    \n",
    "    train = combine_ds(dataset[0:slice_bottom], dataset[slice_top:])\n",
    "    ds3 = dataset[slice_bottom:slice_top]\n",
    "    test = Dataset.from_dict({'image': ds3[\"image\"] ,\n",
    "            'label': ds3[\"label\"]})\n",
    "    return train,test\n",
    "\n",
    "ds = combine_ds(splits['train'], splits['test'])"
   ]
  },
  {
   "cell_type": "code",
   "execution_count": 4,
   "id": "179a020a-66fc-4d44-bb80-fe24e390823c",
   "metadata": {},
   "outputs": [
    {
     "name": "stderr",
     "output_type": "stream",
     "text": [
      "/home/ths29/.conda/envs/fproj/lib/python3.12/site-packages/transformers/models/convnext/feature_extraction_convnext.py:28: FutureWarning: The class ConvNextFeatureExtractor is deprecated and will be removed in version 5 of Transformers. Please use ConvNextImageProcessor instead.\n",
      "  warnings.warn(\n"
     ]
    }
   ],
   "source": [
    "import numpy as np\n",
    "from datasets import Features, ClassLabel, Array3D\n",
    "from transformers import AutoFeatureExtractor\n",
    "\n",
    "feature_extractor = AutoFeatureExtractor.from_pretrained('microsoft/resnet-50')\n",
    "\n",
    "def preprocess_image(example):\n",
    "    image = example['image']\n",
    "    image = image.resize((244,244))\n",
    "    image = np.array(image, dtype=np.uint8)\n",
    "    image = np.moveaxis(image, source=-1, destination=0)\n",
    "    inputs = feature_extractor(images=image)\n",
    "    example['pixel_values'] = inputs['pixel_values'][0]\n",
    "    example['image'] = image\n",
    "    return example\n",
    "\n",
    "from datasets import Features, ClassLabel, Array3D\n",
    "features = Features({\n",
    "    'label': ClassLabel(num_classes=2, names=['benign', 'malignant']),\n",
    "    'image': Array3D(dtype=\"int64\", shape=(3,32,32)),\n",
    "    'pixel_values': Array3D(dtype=\"float32\", shape=(3, 224, 224)),\n",
    "})\n"
   ]
  },
  {
   "cell_type": "code",
   "execution_count": 5,
   "id": "1ebfee2f-c4fb-4eb8-ba3d-ddd6eea3b045",
   "metadata": {},
   "outputs": [],
   "source": [
    "from transformers import Trainer, TrainingArguments\n",
    "from transformers import default_data_collator\n",
    "from scipy.special import softmax\n",
    "\n",
    "data_collator = default_data_collator\n",
    "from sklearn.metrics import accuracy_score, recall_score, roc_auc_score\n",
    "\n",
    "def get_prediction(p, threshold = 0.5):\n",
    "    probabilities = softmax(p)\n",
    "    predicted_class = 1 - int(probabilities[0] > threshold)\n",
    "    return predicted_class\n",
    "\n",
    "def compute_metrics(p):\n",
    "    raw_pred = p.predictions\n",
    "    predictions = [get_prediction(t) for t in raw_pred]\n",
    "    probabilities = [softmax(t)[1] for t in raw_pred] #softmax 1 we take to mean probability of label being 1\n",
    "    labels = p.label_ids\n",
    "    accuracy = accuracy_score(labels, predictions)\n",
    "    recall = recall_score(labels, predictions)\n",
    "    auc = roc_auc_score(labels, probabilities)\n",
    "    return {\"accuracy\": accuracy, \"recall\": recall, \"AUC\": auc}\n"
   ]
  },
  {
   "cell_type": "code",
   "execution_count": 9,
   "id": "41bd0834-5622-4237-8569-8fd6b23d4711",
   "metadata": {},
   "outputs": [],
   "source": [
    "learning_rates = [0.01, 0.001]\n",
    "epochs = [2,3]\n",
    "k = 5\n",
    "\n",
    "results = {}\n",
    "for epoch in epochs:\n",
    "    results[epoch] = {}"
   ]
  },
  {
   "cell_type": "code",
   "execution_count": null,
   "id": "c615b2a7-35ba-4abe-ad4f-8f5a0285bf20",
   "metadata": {
    "scrolled": true
   },
   "outputs": [
    {
     "name": "stdout",
     "output_type": "stream",
     "text": [
      "Training lr:  0.01  with  2 epochs\n",
      "Fold  0\n"
     ]
    },
    {
     "data": {
      "application/vnd.jupyter.widget-view+json": {
       "model_id": "1a9d3d2a99b54edea12f6109cbe4a0ba",
       "version_major": 2,
       "version_minor": 0
      },
      "text/plain": [
       "Map:   0%|          | 0/255 [00:00<?, ? examples/s]"
      ]
     },
     "metadata": {},
     "output_type": "display_data"
    },
    {
     "data": {
      "application/vnd.jupyter.widget-view+json": {
       "model_id": "5af5defb46f34bde823e88ea2d9b2a2f",
       "version_major": 2,
       "version_minor": 0
      },
      "text/plain": [
       "Map:   0%|          | 0/63 [00:00<?, ? examples/s]"
      ]
     },
     "metadata": {},
     "output_type": "display_data"
    },
    {
     "name": "stderr",
     "output_type": "stream",
     "text": [
      "Some weights of ResNetForImageClassification were not initialized from the model checkpoint at microsoft/resnet-50 and are newly initialized because the shapes did not match:\n",
      "- classifier.1.weight: found shape torch.Size([1000, 2048]) in the checkpoint and torch.Size([2, 2048]) in the model instantiated\n",
      "- classifier.1.bias: found shape torch.Size([1000]) in the checkpoint and torch.Size([2]) in the model instantiated\n",
      "You should probably TRAIN this model on a down-stream task to be able to use it for predictions and inference.\n",
      "Detected kernel version 4.18.0, which is below the recommended minimum of 5.5.0; this can cause the process to hang. It is recommended to upgrade the kernel to the minimum version or higher.\n"
     ]
    },
    {
     "data": {
      "text/html": [
       "\n",
       "    <div>\n",
       "      \n",
       "      <progress value='50' max='52' style='width:300px; height:20px; vertical-align: middle;'></progress>\n",
       "      [50/52 03:59 < 00:09, 0.20 it/s, Epoch 1.88/2]\n",
       "    </div>\n",
       "    <table border=\"1\" class=\"dataframe\">\n",
       "  <thead>\n",
       " <tr style=\"text-align: left;\">\n",
       "      <th>Epoch</th>\n",
       "      <th>Training Loss</th>\n",
       "      <th>Validation Loss</th>\n",
       "      <th>Accuracy</th>\n",
       "      <th>Recall</th>\n",
       "      <th>Auc</th>\n",
       "    </tr>\n",
       "  </thead>\n",
       "  <tbody>\n",
       "    <tr>\n",
       "      <td>1</td>\n",
       "      <td>No log</td>\n",
       "      <td>1.843709</td>\n",
       "      <td>0.428571</td>\n",
       "      <td>0.309524</td>\n",
       "      <td>0.410431</td>\n",
       "    </tr>\n",
       "  </tbody>\n",
       "</table><p>"
      ],
      "text/plain": [
       "<IPython.core.display.HTML object>"
      ]
     },
     "metadata": {},
     "output_type": "display_data"
    }
   ],
   "source": [
    "for num_epochs in epochs:\n",
    "    for learning_rate in learning_rates:\n",
    "        print(\"Training lr: \", learning_rate, \" with \", num_epochs, \"epochs\")\n",
    "        k_results = [None] * k\n",
    "        for i in range(k):\n",
    "            print(\"Fold \", i)\n",
    "            train_ds, val_ds = k_split(ds,i,k)  \n",
    "\n",
    "            preprocessed_train_ds = train_ds.map(preprocess_image, features = features)\n",
    "            preprocessed_val_ds = val_ds.map(preprocess_image, features = features)\n",
    "\n",
    "            model = ResNetForImageClassification.from_pretrained('microsoft/resnet-50', num_labels=2, ignore_mismatched_sizes=True)\n",
    "\n",
    "            args = TrainingArguments(\n",
    "                output_dir=\"./model\",\n",
    "                evaluation_strategy = \"epoch\",\n",
    "                save_strategy = \"epoch\",\n",
    "                learning_rate=learning_rate,\n",
    "                per_device_train_batch_size=10,\n",
    "                per_device_eval_batch_size=4,\n",
    "                num_train_epochs=num_epochs,\n",
    "                weight_decay=0.01,\n",
    "                load_best_model_at_end=True,\n",
    "                logging_dir='logs',\n",
    "            )\n",
    "\n",
    "            trainer = Trainer(\n",
    "                model = model,\n",
    "                args=args,\n",
    "                train_dataset = preprocessed_train_ds,\n",
    "                eval_dataset = preprocessed_val_ds,\n",
    "                data_collator = data_collator,\n",
    "                compute_metrics = compute_metrics,\n",
    "            )\n",
    "\n",
    "            trainer.train()\n",
    "\n",
    "            outputs = trainer.predict(preprocessed_val_ds)\n",
    "\n",
    "            metrics = compute_metrics(outputs)\n",
    "            k_results[i] = metrics\n",
    "        print(k_results)\n",
    "        results[num_epochs][learning_rate] = k_results\n",
    "\n",
    "\n",
    "print(\"Finished! Saving...\")\n",
    "\n",
    "import pickle \n",
    "with open('saved_norm_all_results.pkl', 'wb') as f:\n",
    "    pickle.dump(results, f)\n",
    "\n",
    "print(\"Done!\")"
   ]
  },
  {
   "cell_type": "code",
   "execution_count": 3,
   "id": "cfd75234-7349-4693-90c6-b553f37c6ac3",
   "metadata": {},
   "outputs": [],
   "source": [
    "import pickle"
   ]
  },
  {
   "cell_type": "code",
   "execution_count": 4,
   "id": "07c21f8a-1e76-4bc5-b246-b5a5e4bc3c10",
   "metadata": {
    "scrolled": true
   },
   "outputs": [],
   "source": [
    "with open('saved_results.pkl', 'rb') as f:\n",
    "    results_loaded = pickle.load(f)"
   ]
  },
  {
   "cell_type": "code",
   "execution_count": 10,
   "id": "6fc0dc00-37bb-4a49-be74-a839557a8e60",
   "metadata": {},
   "outputs": [],
   "source": [
    "def organize_results(d):\n",
    "    accuracy = []\n",
    "    recall = []\n",
    "    auc = []\n",
    "    for result in d:\n",
    "        accuracy.append(result[\"accuracy\"])\n",
    "        recall.append(result[\"recall\"])\n",
    "        auc.append(result[\"AUC\"])\n",
    "    return {\"accuracy\": accuracy, \"recall\": recall, \"AUC\": auc}\n",
    "\n",
    "\n",
    "import numpy as np\n",
    "def get_summary(d):\n",
    "    accuracy_m = np.mean(d[\"accuracy\"])\n",
    "    accuracy_std = np.std(d[\"accuracy\"])\n",
    "    recall_m = np.mean(d[\"recall\"])\n",
    "    recall_std = np.std(d[\"recall\"])\n",
    "    auc_m = np.mean(d[\"AUC\"])\n",
    "    auc_std = np.std(d[\"AUC\"])\n",
    "    return {'mean': \n",
    "                {\"accuracy\": accuracy_m, \n",
    "                 'recall': recall_m, \n",
    "                 'auc': auc_m},\n",
    "            'std':\n",
    "                {\"accuracy\": accuracy_std, \n",
    "                 'recall': recall_std, \n",
    "                 'auc': auc_std}\n",
    "           }\n"
   ]
  },
  {
   "cell_type": "code",
   "execution_count": 11,
   "id": "69035912-0be7-442b-bf15-45e4d64a7e7d",
   "metadata": {},
   "outputs": [],
   "source": [
    "def get_label(ep, lr):\n",
    "    return str(epoch) + \"ep\" + str(lr) + \"LR\""
   ]
  },
  {
   "cell_type": "code",
   "execution_count": 12,
   "id": "1a3a314e-7d6b-480f-8185-fc090df364bf",
   "metadata": {},
   "outputs": [
    {
     "data": {
      "text/plain": [
       "{'2ep0.01LR': {'mean': {'accuracy': 0.5636363636363636,\n",
       "   'recall': 0.45904761904761904,\n",
       "   'auc': 0.5950244200244201},\n",
       "  'std': {'accuracy': 0.0463547228508435,\n",
       "   'recall': 0.34481714895456106,\n",
       "   'auc': 0.10012908340993974}},\n",
       " '2ep0.001LR': {'mean': {'accuracy': 0.5636363636363637,\n",
       "   'recall': 0.1,\n",
       "   'auc': 0.5941697191697192},\n",
       "  'std': {'accuracy': 0.08907235428302465,\n",
       "   'recall': 0.20000000000000004,\n",
       "   'auc': 0.1429949060759172}},\n",
       " '3ep0.01LR': {'mean': {'accuracy': 0.5454545454545454,\n",
       "   'recall': 0.5126007326007327,\n",
       "   'auc': 0.5546642246642246},\n",
       "  'std': {'accuracy': 0.11134044285378081,\n",
       "   'recall': 0.25931288524938223,\n",
       "   'auc': 0.07701612296105313}},\n",
       " '3ep0.001LR': {'mean': {'accuracy': 0.5181818181818182,\n",
       "   'recall': 0.05714285714285714,\n",
       "   'auc': 0.5179609279609279},\n",
       "  'std': {'accuracy': 0.061657545301138796,\n",
       "   'recall': 0.11428571428571428,\n",
       "   'auc': 0.07938825997532468}}}"
      ]
     },
     "execution_count": 12,
     "metadata": {},
     "output_type": "execute_result"
    }
   ],
   "source": [
    "stats_summary = {}\n",
    "for epoch in epochs:\n",
    "    for rate in learning_rates:\n",
    "        organized_results = organize_results(results_loaded[epoch][rate])\n",
    "        stats_summary[get_label(epoch, rate)] = get_summary(organized_results)\n",
    "    \n",
    "\n",
    "stats_summary"
   ]
  },
  {
   "cell_type": "code",
   "execution_count": 9,
   "id": "51eda8dc-dbec-43ea-8c1a-208c79006dd6",
   "metadata": {},
   "outputs": [
    {
     "ename": "NameError",
     "evalue": "name 'arr' is not defined",
     "output_type": "error",
     "traceback": [
      "\u001b[0;31m---------------------------------------------------------------------------\u001b[0m",
      "\u001b[0;31mNameError\u001b[0m                                 Traceback (most recent call last)",
      "Cell \u001b[0;32mIn[9], line 2\u001b[0m\n\u001b[1;32m      1\u001b[0m arr_labels\n\u001b[0;32m----> 2\u001b[0m plt\u001b[38;5;241m.\u001b[39mbar(arr_labels, \u001b[43marr\u001b[49m)\n",
      "\u001b[0;31mNameError\u001b[0m: name 'arr' is not defined"
     ]
    }
   ],
   "source": [
    "arr_labels\n",
    "plt.bar(arr_labels, arr)"
   ]
  },
  {
   "cell_type": "code",
   "execution_count": 10,
   "id": "fecfd3b5-85d2-41e4-976c-5bc419c8a341",
   "metadata": {},
   "outputs": [
    {
     "data": {
      "text/plain": [
       "<matplotlib.legend.Legend at 0x145670be2510>"
      ]
     },
     "execution_count": 10,
     "metadata": {},
     "output_type": "execute_result"
    },
    {
     "data": {
      "image/png": "[encoded data removed]",
      "text/plain": [
       "<Figure size 640x480 with 1 Axes>"
      ]
     },
     "metadata": {},
     "output_type": "display_data"
    }
   ],
   "source": [
    "from matplotlib import pyplot as plt\n",
    "\n",
    "\n",
    "\n",
    "arr_labels = [\"avg accuracy\", \"avg recall\", \"avg auc\"]\n",
    "\n",
    "arr = list(stats_summary[get_label(2, 0.01)][\"mean\"].values())\n",
    "std1 = list(stats_summary[get_label(2, 0.01)][\"std\"].values())\n",
    "\n",
    "arr_2 = list(stats_summary[get_label(2, 0.001)][\"mean\"].values())\n",
    "std2 = list(stats_summary[get_label(2, 0.001)][\"std\"].values())\n",
    "\n",
    "arr_3 = list(stats_summary[get_label(3, 0.01)][\"mean\"].values())\n",
    "std3 = list(stats_summary[get_label(3, 0.01)][\"std\"].values())\n",
    "\n",
    "arr_4 = list(stats_summary[get_label(3, 0.001)][\"mean\"].values())\n",
    "std4 = list(stats_summary[get_label(3, 0.001)][\"std\"].values())\n",
    "\n",
    "fig, ax = plt.subplots()\n",
    "\n",
    "x = np.arange(3)\n",
    "\n",
    "# Plot the bars\n",
    "ax.bar(x - 0.3, arr, width=0.2, yerr=std1, capsize=5, label='E: 2, LR: 0.01', bottom=0)\n",
    "ax.bar(x - 0.1, arr_2, width=0.2, yerr=std2, capsize=5, label='E: 2, LR: 0.001', bottom=0)\n",
    "ax.bar(x + 0.1, arr_3, width=0.2, yerr=std3, capsize=5, label='E: 3, LR: 0.01', bottom=0)\n",
    "ax.bar(x + 0.3, arr_4, width=0.2, yerr=std4, capsize=5, label='E: 3, LR: 0.001', bottom=0)\n",
    "\n",
    "\n",
    "\n",
    "# Set the x-axis ticks and labels\n",
    "ax.set_xticks(x)\n",
    "ax.set_xticklabels(arr_labels)\n",
    "\n",
    "# Set labels and title\n",
    "ax.set_ylabel('Value')\n",
    "ax.set_title('Benign vs Malignant\\n5-Fold Cross-Validation \\nwith Varying Epochs and Learning Rate')\n",
    "\n",
    "ax.legend(loc='upper left', bbox_to_anchor=(1, 1))"
   ]
  }
 ],
 "metadata": {
  "kernelspec": {
   "display_name": "Python 3 (ipykernel)",
   "language": "python",
   "name": "python3"
  },
  "language_info": {
   "codemirror_mode": {
    "name": "ipython",
    "version": 3
   },
   "file_extension": ".py",
   "mimetype": "text/x-python",
   "name": "python",
   "nbconvert_exporter": "python",
   "pygments_lexer": "ipython3",
   "version": "3.9.13"
  }
 },
 "nbformat": 4,
 "nbformat_minor": 5
}
