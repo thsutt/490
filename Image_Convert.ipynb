{
 "cells": [
  {
   "cell_type": "code",
   "execution_count": null,
   "id": "9041041f-c2ba-4f4b-bfdc-61a07e4073eb",
   "metadata": {},
   "outputs": [],
   "source": [
    "from PIL import Image\n",
    "import os\n",
    "import pandas as pd\n",
    "\n",
    "data = pd.read_csv('mdb.tsv', sep=' ')\n",
    "#Can change which files are converted and where they are saved – this was initially used to \n",
    "#convert the images for the B/M split and then modified for Norm/MB\n",
    "MB = data[data[\"severity\"].isin(['B', 'M'])][\"img\"]\n",
    "NORM = data[(data[\"class\"] == 'NORM')][\"img\"]\n",
    "\n",
    "\n",
    "input_folder = \"all-mias/\"\n",
    "norm_output_folder = \"norm-all-img-data/NORM\"\n",
    "mb_output_folder = \"norm-all-img-data/MB”\n",
    "\n",
    "print(input_folder + B[0] + \".pgm\")\n",
    "\n",
    "# Ensure the output folder exists\n",
    "os.makedirs(norm_output_folder, exist_ok=True)\n",
    "os.makedirs(mb_output_folder, exist_ok=True)\n",
    "\n",
    "# Convert each PGM file to JPEG\n",
    "for pgm_file in NORM:\n",
    "    pgm_file = pgm_file + \".pgm\"\n",
    "    pgm_path = os.path.join(input_folder, pgm_file)\n",
    "    \n",
    "    # Open the PGM image\n",
    "    with Image.open(pgm_path) as img:\n",
    "        # Generate the output JPEG filename\n",
    "        jpeg_filename = os.path.splitext(pgm_file)[0] + \".jpg\"\n",
    "        jpeg_path = os.path.join(norm_output_folder, jpeg_filename)\n",
    "\n",
    "        # Save the image as JPEG\n",
    "        img.convert(\"RGB\").save(jpeg_path)\n",
    "        \n",
    "# Convert each PGM file to JPEG\n",
    "for pgm_file in MB:\n",
    "    pgm_file = pgm_file + \".pgm\"\n",
    "    pgm_path = os.path.join(input_folder, pgm_file)\n",
    "    \n",
    "    # Open the PGM image\n",
    "    with Image.open(pgm_path) as img:\n",
    "        # Generate the output JPEG filename\n",
    "        jpeg_filename = os.path.splitext(pgm_file)[0] + \".jpg\"\n",
    "        jpeg_path = os.path.join(mb_output_folder, jpeg_filename)\n",
    "\n",
    "        # Save the image as JPEG\n",
    "        img.convert(\"RGB\").save(jpeg_path)\n",
    "\n",
    "print(\"Conversion complete.\")"
   ]
  }
 ],
 "metadata": {
  "kernelspec": {
   "display_name": "Python 3 (ipykernel)",
   "language": "python",
   "name": "python3"
  },
  "language_info": {
   "codemirror_mode": {
    "name": "ipython",
    "version": 3
   },
   "file_extension": ".py",
   "mimetype": "text/x-python",
   "name": "python",
   "nbconvert_exporter": "python",
   "pygments_lexer": "ipython3",
   "version": "3.9.13"
  }
 },
 "nbformat": 4,
 "nbformat_minor": 5
}
